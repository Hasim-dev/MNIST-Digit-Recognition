{
  "nbformat": 4,
  "nbformat_minor": 0,
  "metadata": {
    "colab": {
      "name": "MNIST CNN (PyTorch).ipynb",
      "provenance": [],
      "collapsed_sections": [],
      "include_colab_link": true
    },
    "kernelspec": {
      "name": "python3",
      "display_name": "Python 3"
    },
    "accelerator": "GPU"
  },
  "cells": [
    {
      "cell_type": "markdown",
      "metadata": {
        "id": "view-in-github",
        "colab_type": "text"
      },
      "source": [
        "<a href=\"https://colab.research.google.com/github/Hasim-dev/MNIST-Digit-Recognition/blob/master/MNIST_CNN_(PyTorch).ipynb\" target=\"_parent\"><img src=\"https://colab.research.google.com/assets/colab-badge.svg\" alt=\"Open In Colab\"/></a>"
      ]
    },
    {
      "cell_type": "code",
      "metadata": {
        "id": "GKtBh1qHuXVP",
        "colab_type": "code",
        "colab": {}
      },
      "source": [
        "import torch\n",
        "import matplotlib.pyplot as plt\n",
        "import numpy as np\n",
        "import torch.nn.functional as F\n",
        "from torch import nn\n",
        "from torchvision import datasets, transforms"
      ],
      "execution_count": 0,
      "outputs": []
    },
    {
      "cell_type": "code",
      "metadata": {
        "id": "8rHg9kymPg2o",
        "colab_type": "code",
        "colab": {}
      },
      "source": [
        "# device = torch.device(\"cuda:0\" if torch.cuda.is_available() else \"cpu\")"
      ],
      "execution_count": 0,
      "outputs": []
    },
    {
      "cell_type": "code",
      "metadata": {
        "id": "O3zrzvkEui-c",
        "colab_type": "code",
        "colab": {
          "base_uri": "https://localhost:8080/",
          "height": 751
        },
        "outputId": "753a68bf-1f20-4363-b720-355172f9ea69"
      },
      "source": [
        "transform = transforms.Compose([transforms.Resize((28, 28)),\n",
        "                                transforms.ToTensor(),\n",
        "                                transforms.Normalize((0.5,), (0.5,)) # mean ve std\n",
        "                               ]) # transform'u oluşturduk. ToTensor ve Normalize ile tensora dönüştürdük ve normalize ettik\n",
        "\n",
        "# /data içine data'yı koy, train_set oluştur, indir, transform'u koy\n",
        "training_dataset = datasets.MNIST(root='./data', train=True, download=True, transform=transform)\n",
        "validation_dataset = datasets.MNIST(root='./data', train=False, download=True, transform=transform)\n",
        "\n",
        "# epoch için tek seferde 60.000 image fazla olur. \"batch_size\" ile bölüyoruz. \"shuffle\" global minimum içindi.\n",
        "training_loader = torch.utils.data.DataLoader(dataset=training_dataset, batch_size=100, shuffle=True)\n",
        "validation_loader = torch.utils.data.DataLoader(validation_dataset, batch_size=100, shuffle=False)"
      ],
      "execution_count": 3,
      "outputs": [
        {
          "output_type": "stream",
          "text": [
            "\r0it [00:00, ?it/s]"
          ],
          "name": "stderr"
        },
        {
          "output_type": "stream",
          "text": [
            "Downloading http://yann.lecun.com/exdb/mnist/train-images-idx3-ubyte.gz to ./data/MNIST/raw/train-images-idx3-ubyte.gz\n"
          ],
          "name": "stdout"
        },
        {
          "output_type": "stream",
          "text": [
            " 99%|█████████▉| 9854976/9912422 [00:27<00:00, 550287.02it/s]"
          ],
          "name": "stderr"
        },
        {
          "output_type": "stream",
          "text": [
            "Extracting ./data/MNIST/raw/train-images-idx3-ubyte.gz to ./data/MNIST/raw\n"
          ],
          "name": "stdout"
        },
        {
          "output_type": "stream",
          "text": [
            "\n",
            "0it [00:00, ?it/s]\u001b[A\n",
            "  0%|          | 0/28881 [00:00<?, ?it/s]\u001b[A"
          ],
          "name": "stderr"
        },
        {
          "output_type": "stream",
          "text": [
            "Downloading http://yann.lecun.com/exdb/mnist/train-labels-idx1-ubyte.gz to ./data/MNIST/raw/train-labels-idx1-ubyte.gz\n"
          ],
          "name": "stdout"
        },
        {
          "output_type": "stream",
          "text": [
            "\n",
            "32768it [00:00, 135341.97it/s]           \u001b[A\n",
            "0it [00:00, ?it/s]\u001b[A\n",
            "  0%|          | 0/1648877 [00:00<?, ?it/s]\u001b[A"
          ],
          "name": "stderr"
        },
        {
          "output_type": "stream",
          "text": [
            "Extracting ./data/MNIST/raw/train-labels-idx1-ubyte.gz to ./data/MNIST/raw\n",
            "Downloading http://yann.lecun.com/exdb/mnist/t10k-images-idx3-ubyte.gz to ./data/MNIST/raw/t10k-images-idx3-ubyte.gz\n"
          ],
          "name": "stdout"
        },
        {
          "output_type": "stream",
          "text": [
            "\n",
            "  2%|▏         | 40960/1648877 [00:00<00:06, 248957.63it/s]\u001b[A\n",
            "  5%|▌         | 90112/1648877 [00:00<00:05, 267853.44it/s]\u001b[A\n",
            "  9%|▉         | 147456/1648877 [00:00<00:05, 293990.83it/s]\u001b[A\n",
            " 13%|█▎        | 212992/1648877 [00:00<00:04, 323275.05it/s]\u001b[A\n",
            " 17%|█▋        | 286720/1648877 [00:00<00:03, 358402.61it/s]\u001b[A\n",
            " 22%|██▏       | 360448/1648877 [00:01<00:03, 388769.22it/s]\u001b[A\n",
            " 25%|██▍       | 409600/1648877 [00:01<00:03, 363047.60it/s]\u001b[A\n",
            " 31%|███       | 507904/1648877 [00:01<00:02, 420924.67it/s]\u001b[A\n",
            " 35%|███▍      | 573440/1648877 [00:01<00:02, 424759.11it/s]\u001b[A\n",
            " 39%|███▉      | 647168/1648877 [00:01<00:02, 440338.95it/s]\u001b[A\n",
            " 44%|████▎     | 720896/1648877 [00:01<00:02, 450096.07it/s]\u001b[A\n",
            " 48%|████▊     | 794624/1648877 [00:02<00:01, 460192.28it/s]\u001b[A\n",
            " 53%|█████▎    | 868352/1648877 [00:02<00:01, 473013.51it/s]\u001b[A\n",
            " 58%|█████▊    | 950272/1648877 [00:02<00:01, 491978.95it/s]\u001b[A\n",
            " 63%|██████▎   | 1032192/1648877 [00:02<00:01, 506272.38it/s]\u001b[A\n",
            " 68%|██████▊   | 1114112/1648877 [00:02<00:01, 516954.81it/s]\u001b[A\n",
            " 73%|███████▎  | 1204224/1648877 [00:02<00:00, 527223.82it/s]\u001b[A\n",
            " 78%|███████▊  | 1286144/1648877 [00:02<00:00, 544021.69it/s]\u001b[A\n",
            " 83%|████████▎ | 1376256/1648877 [00:03<00:00, 543983.26it/s]\u001b[A\n",
            " 89%|████████▉ | 1466368/1648877 [00:03<00:00, 558177.48it/s]\u001b[A\n",
            " 95%|█████████▍| 1564672/1648877 [00:03<00:00, 582637.45it/s]\u001b[A\n",
            "\n",
            "0it [00:00, ?it/s]\u001b[A\u001b[A"
          ],
          "name": "stderr"
        },
        {
          "output_type": "stream",
          "text": [
            "Extracting ./data/MNIST/raw/t10k-images-idx3-ubyte.gz to ./data/MNIST/raw\n",
            "Downloading http://yann.lecun.com/exdb/mnist/t10k-labels-idx1-ubyte.gz to ./data/MNIST/raw/t10k-labels-idx1-ubyte.gz\n"
          ],
          "name": "stdout"
        },
        {
          "output_type": "stream",
          "text": [
            "\n",
            "\n",
            "  0%|          | 0/4542 [00:00<?, ?it/s]\u001b[A\u001b[A\n",
            "\n",
            "8192it [00:00, 49269.11it/s]            \u001b[A\u001b[A"
          ],
          "name": "stderr"
        },
        {
          "output_type": "stream",
          "text": [
            "Extracting ./data/MNIST/raw/t10k-labels-idx1-ubyte.gz to ./data/MNIST/raw\n",
            "Processing...\n",
            "Done!\n"
          ],
          "name": "stdout"
        }
      ]
    },
    {
      "cell_type": "code",
      "metadata": {
        "id": "QldOklD41uW0",
        "colab_type": "code",
        "colab": {}
      },
      "source": [
        "# Tensor image'leri plot etmek için tekrar numpy arraye dönüştürmemiz gerekiyor.\n",
        "def im_convert(tensor):\n",
        "  \n",
        "  # Tensor; color channel, width, channel sütunlarından oluşur. (1, 28, 28)\n",
        "  image = tensor.clone().detach().numpy() \n",
        "  \n",
        "  # (1, 28, 28) oldu\n",
        "  image = image.transpose(1, 2, 0) \n",
        "  #print(image.shape)\n",
        "  \n",
        "  # Denormalization\n",
        "  image = image * np.array([0.5, 0.5, 0.5] + np.array([0.5, 0.5, 0.5]))\n",
        "  \n",
        "  #Mormalizing the image mader our image -1 to 1. To ensure that the image is 0 to 1.\n",
        "  image = image.clip(0, 1)\n",
        "  \n",
        "  return image"
      ],
      "execution_count": 0,
      "outputs": []
    },
    {
      "cell_type": "code",
      "metadata": {
        "id": "GaC8rah24Plf",
        "colab_type": "code",
        "outputId": "10a67eae-a587-467f-ac6e-7d945ea19cf8",
        "colab": {
          "base_uri": "https://localhost:8080/",
          "height": 288
        }
      },
      "source": [
        "dataiter = iter(training_loader) # training loader(bir iterable) üzerinden iterate edecek.\n",
        "images, labels = dataiter.next() # access it one at a time with next(), returns image, label\n",
        "fig = plt.figure(figsize=(25, 4))\n",
        "\n",
        "for idx in np.arange(20):\n",
        "  ax = fig.add_subplot(2, 10, idx+1, xticks=[], yticks=[]) # rows, columns, index\n",
        "  plt.imshow(im_convert(images[idx])) # images[idx] tensor döndürür, np array için \"im_convert\"e sokuyoruz.\n",
        "  ax.set_title([labels[idx].item()]) #her image için title"
      ],
      "execution_count": 5,
      "outputs": [
        {
          "output_type": "display_data",
          "data": {
            "image/png": "[encoded data removed]",
            "text/plain": [
              "<Figure size 1800x288 with 20 Axes>"
            ]
          },
          "metadata": {
            "tags": []
          }
        }
      ]
    },
    {
      "cell_type": "code",
      "metadata": {
        "id": "5G_3NXiG60uY",
        "colab_type": "code",
        "colab": {}
      },
      "source": [
        "class LeNet(nn.Module):\n",
        "  # hidden layer sayısı, argument sayısını belirler. input, D1, D2, output layerindaki node sayısı argument olarak verilir.\n",
        "  def __init__(self):\n",
        "    super().__init__()\n",
        "    self.conv1 = nn.Conv2d(1, 20, 5, 1) #(input kanal sayısı, feature extr. için kernel sayısı, kernel boyutu, stride uzunluğu),  input conv layer defined\n",
        "    #28x28 boyut, conv'dan sonra 24x24 oldu. poolingden sonra 12x12 oldu (2x2 kernel ile yarıya düşürdü).\n",
        "    \n",
        "    self.conv2 = nn.Conv2d(20, 50, 5, 1) #(input kanalı öncekinin outputu kadar yani 20, output 50 seçtik)\n",
        "    #12x12 boyut, conv'dan sonra 8x8 oldu. poolingden sonra 4x4 oldu (2x2 kernel ile yarıya düşürdü).\n",
        "    \n",
        "    #fc1 layerına 4x4x50=800 kadar input olur. 50 katmanlı conv2 layerı ve 4x4 feature image ile gelmişti.\n",
        "    self.fc1 = nn.Linear(4*4*50, 500) #nn.Linear(input sayısı, output sayısı)\n",
        "    # dropout layerları genelde parameter sayıları yüksek olan layerlar arasında kullanılır\n",
        "    self.dropout1 = nn.Dropout(0.5)\n",
        "    # (öncekinin 500 outputu bu layerin inputu oldu, 10 output 0-9 arası rakamlar)\n",
        "    self.fc2 = nn.Linear(500, 10) \n",
        "    \n",
        "  def forward(self, x):\n",
        "    x = F.relu(self.conv1(x)) # conv1 çıkışına uygulandı. activation func. (negatif değerler \"0\" olur)\n",
        "    x = F.max_pool2d(x, 2, 2) #pooling layer: image size yarıya düştü\n",
        "    \n",
        "    x = F.relu(self.conv2(x)) # conv2 çıkışına uygulandı. activation func. (negatif değerler \"0\" olur)\n",
        "    x = F.max_pool2d(x, 2, 2) #pooling layer: image size yarıya düştü\n",
        "    \n",
        "    x = x.view(-1, 4*4*50) # (nr. cols, nr. rows) x'i istediğimiz shape'e sokuyoruz. FC layera girmeden flattened(düzlenmiş) olması gerekiyordu.\n",
        "    \n",
        "    x = F.relu(self.fc1(x)) # fc1 çıkışına relu uyguluyoruz.\n",
        "    x = self.dropout1(x)\n",
        "    x = self.fc2(x) # relu çıkışını da fc2ye veriyoruz.\n",
        "    \n",
        "    # Burada en son çıkışa activ. func. uygulamıyoruz.\n",
        "    # Daha sonra nn.CrossEntropyLoss()'yi kullanacağız.'\n",
        "    return x"
      ],
      "execution_count": 0,
      "outputs": []
    },
    {
      "cell_type": "code",
      "metadata": {
        "id": "2RVES26_20vj",
        "colab_type": "code",
        "outputId": "562bdbab-8336-4745-a5b2-6b3864cc5021",
        "colab": {
          "base_uri": "https://localhost:8080/",
          "height": 136
        }
      },
      "source": [
        "model = LeNet()#.to(device)\n",
        "model # modeli görelim."
      ],
      "execution_count": 44,
      "outputs": [
        {
          "output_type": "execute_result",
          "data": {
            "text/plain": [
              "LeNet(\n",
              "  (conv1): Conv2d(1, 20, kernel_size=(5, 5), stride=(1, 1))\n",
              "  (conv2): Conv2d(20, 50, kernel_size=(5, 5), stride=(1, 1))\n",
              "  (fc1): Linear(in_features=800, out_features=500, bias=True)\n",
              "  (dropout1): Dropout(p=0.5, inplace=False)\n",
              "  (fc2): Linear(in_features=500, out_features=10, bias=True)\n",
              ")"
            ]
          },
          "metadata": {
            "tags": []
          },
          "execution_count": 44
        }
      ]
    },
    {
      "cell_type": "code",
      "metadata": {
        "id": "LpFQ88e_GPTz",
        "colab_type": "code",
        "colab": {}
      },
      "source": [
        "criterion = nn.CrossEntropyLoss()\n",
        "optimizer = torch.optim.Adam(model.parameters(), lr = 0.0001)"
      ],
      "execution_count": 0,
      "outputs": []
    },
    {
      "cell_type": "code",
      "metadata": {
        "id": "qaR7gPFhHBOF",
        "colab_type": "code",
        "outputId": "96c84d49-1694-48a2-b154-fcb30989abca",
        "colab": {
          "base_uri": "https://localhost:8080/",
          "height": 782
        }
      },
      "source": [
        "epochs = 15\n",
        "running_loss_history = []\n",
        "running_corrects_history = []\n",
        "\n",
        "val_running_loss_history = []\n",
        "val_running_corrects_history = []\n",
        "\n",
        "for e in range(epochs):\n",
        "  \n",
        "  running_loss = 0.0\n",
        "  running_corrects = 0.0\n",
        "  val_running_loss = 0.0\n",
        "  val_running_corrects = 0.0\n",
        "  for inputs, labels in training_loader:\n",
        "    #inputs = inputs.to(device)\n",
        "    #labels = labels.to(device)\n",
        "    outputs = model(inputs)\n",
        "    loss = criterion(outputs, labels) # output ve labellar karşılaştırılıyor.\n",
        "    \n",
        "    optimizer.zero_grad()\n",
        "    loss.backward()\n",
        "    optimizer.step()\n",
        "    \n",
        "    # gelen outputlardan max değerli olanı alıyoruz.\n",
        "    # ilk değer max score, ikinci değer max score'un index değerini döndürüyor.\n",
        "    _, preds = torch.max(outputs, 1) \n",
        "    running_loss += loss.item()\n",
        "    # single batch of images'da doğru prediction sayısını veriyor.\n",
        "    running_corrects += torch.sum(preds == labels.data) \n",
        "        \n",
        "  else:\n",
        "    with torch.no_grad():\n",
        "      for val_inputs, val_labels in validation_loader:\n",
        "        #val_inputs = val_inputs.to(device)\n",
        "        #val_labels = val_labels.to(device)\n",
        "        val_outputs = model(val_inputs)\n",
        "        val_loss = criterion(val_outputs, val_labels)\n",
        "        \n",
        "        _, val_preds = torch.max(val_outputs, 1) \n",
        "        val_running_loss += val_loss.item()\n",
        "        # single batch of images'da doğru prediction sayısını veriyor.\n",
        "        val_running_corrects += torch.sum(val_preds == val_labels.data) \n",
        "    \n",
        "    \n",
        "    epoch_loss = running_loss/len(training_loader)\n",
        "    epoch_acc = running_corrects.float()/len(training_loader)\n",
        "    running_loss_history.append(epoch_loss) #epoch_loss, listeye eklendi.\n",
        "    running_corrects_history.append(epoch_acc)\n",
        "    \n",
        "    val_epoch_loss = val_running_loss/len(validation_loader)\n",
        "    val_epoch_acc = val_running_corrects.float()/len(validation_loader)\n",
        "    val_running_loss_history.append(val_epoch_loss)\n",
        "    val_running_corrects_history.append(val_epoch_acc)\n",
        "    print('epoch', (e+1))\n",
        "    print('Training Loss: {:.4f}, acc {:.4f}' .format(epoch_loss, epoch_acc.item()))\n",
        "    print('Validation Loss: {:.4f}, acc {:.4f}' .format(val_epoch_loss, val_epoch_acc.item()))\n",
        "    "
      ],
      "execution_count": 46,
      "outputs": [
        {
          "output_type": "stream",
          "text": [
            "epoch 1\n",
            "Training Loss: 0.5875, acc 83.7950\n",
            "Validation Loss: 0.1796, acc 94.9700\n",
            "epoch 2\n",
            "Training Loss: 0.1496, acc 95.4550\n",
            "Validation Loss: 0.1053, acc 96.9300\n",
            "epoch 3\n",
            "Training Loss: 0.1012, acc 96.9467\n",
            "Validation Loss: 0.0785, acc 97.6700\n",
            "epoch 4\n",
            "Training Loss: 0.0787, acc 97.6250\n",
            "Validation Loss: 0.0625, acc 98.0000\n",
            "epoch 5\n",
            "Training Loss: 0.0646, acc 98.0317\n",
            "Validation Loss: 0.0521, acc 98.2600\n",
            "epoch 6\n",
            "Training Loss: 0.0554, acc 98.3417\n",
            "Validation Loss: 0.0491, acc 98.3400\n",
            "epoch 7\n",
            "Training Loss: 0.0499, acc 98.4667\n",
            "Validation Loss: 0.0411, acc 98.6500\n",
            "epoch 8\n",
            "Training Loss: 0.0440, acc 98.6567\n",
            "Validation Loss: 0.0393, acc 98.6000\n",
            "epoch 9\n",
            "Training Loss: 0.0398, acc 98.8033\n",
            "Validation Loss: 0.0385, acc 98.6900\n",
            "epoch 10\n",
            "Training Loss: 0.0366, acc 98.9033\n",
            "Validation Loss: 0.0360, acc 98.8900\n",
            "epoch 11\n",
            "Training Loss: 0.0335, acc 98.9383\n",
            "Validation Loss: 0.0365, acc 98.8000\n",
            "epoch 12\n",
            "Training Loss: 0.0316, acc 99.0500\n",
            "Validation Loss: 0.0340, acc 98.7600\n",
            "epoch 13\n",
            "Training Loss: 0.0285, acc 99.1050\n",
            "Validation Loss: 0.0317, acc 98.8900\n",
            "epoch 14\n",
            "Training Loss: 0.0264, acc 99.1583\n",
            "Validation Loss: 0.0312, acc 98.8400\n",
            "epoch 15\n",
            "Training Loss: 0.0252, acc 99.2150\n",
            "Validation Loss: 0.0292, acc 98.9800\n"
          ],
          "name": "stdout"
        }
      ]
    },
    {
      "cell_type": "code",
      "metadata": {
        "id": "JIqJJZPQN6sy",
        "colab_type": "code",
        "outputId": "07faa4d4-35b9-4129-c61e-812681010a9a",
        "colab": {
          "base_uri": "https://localhost:8080/",
          "height": 282
        }
      },
      "source": [
        "plt.plot(running_loss_history, label='Training Loss')\n",
        "plt.plot(val_running_loss_history, label='Validation Loss')\n",
        "plt.legend()"
      ],
      "execution_count": 48,
      "outputs": [
        {
          "output_type": "execute_result",
          "data": {
            "text/plain": [
              "<matplotlib.legend.Legend at 0x7fcde9ca58d0>"
            ]
          },
          "metadata": {
            "tags": []
          },
          "execution_count": 48
        },
        {
          "output_type": "display_data",
          "data": {
            "image/png": "[encoded data removed]",
            "text/plain": [
              "<Figure size 432x288 with 1 Axes>"
            ]
          },
          "metadata": {
            "tags": []
          }
        }
      ]
    },
    {
      "cell_type": "code",
      "metadata": {
        "id": "0s3l7zQRSznj",
        "colab_type": "code",
        "outputId": "91b1821c-ae7e-49ce-f768-accc6b6501dd",
        "colab": {
          "base_uri": "https://localhost:8080/",
          "height": 282
        }
      },
      "source": [
        "plt.plot(running_corrects_history, label='Training Accuracy')\n",
        "plt.plot(val_running_corrects_history, label='Validation Accuracy')\n",
        "plt.legend()"
      ],
      "execution_count": 49,
      "outputs": [
        {
          "output_type": "execute_result",
          "data": {
            "text/plain": [
              "<matplotlib.legend.Legend at 0x7fcde9de4780>"
            ]
          },
          "metadata": {
            "tags": []
          },
          "execution_count": 49
        },
        {
          "output_type": "display_data",
          "data": {
            "image/png": "[encoded data removed]",
            "text/plain": [
              "<Figure size 432x288 with 1 Axes>"
            ]
          },
          "metadata": {
            "tags": []
          }
        }
      ]
    },
    {
      "cell_type": "code",
      "metadata": {
        "id": "zWHcF8-UYrBu",
        "colab_type": "code",
        "outputId": "7718f521-469e-4e84-a437-60c94a438532",
        "colab": {
          "base_uri": "https://localhost:8080/",
          "height": 265
        }
      },
      "source": [
        "plt.plot(running_loss_history, label='Training Loss')\n",
        "plt.plot(val_running_loss_history, label='Validation Loss')\n",
        "plt.legend()\n",
        "plt.show()"
      ],
      "execution_count": 50,
      "outputs": [
        {
          "output_type": "display_data",
          "data": {
            "image/png": "[encoded data removed]",
            "text/plain": [
              "<Figure size 432x288 with 1 Axes>"
            ]
          },
          "metadata": {
            "tags": []
          }
        }
      ]
    },
    {
      "cell_type": "code",
      "metadata": {
        "id": "ekhG3RvNmoYe",
        "colab_type": "code",
        "outputId": "ac8c05e3-1d42-47ab-fed0-0b16f1cb69b8",
        "colab": {
          "base_uri": "https://localhost:8080/",
          "height": 265
        }
      },
      "source": [
        "plt.plot(running_corrects_history, label='Training Accuracy')\n",
        "plt.plot(val_running_corrects_history, label='Validation Accuracy')\n",
        "plt.legend()\n",
        "plt.show()"
      ],
      "execution_count": 51,
      "outputs": [
        {
          "output_type": "display_data",
          "data": {
            "image/png": "[encoded data removed]",
            "text/plain": [
              "<Figure size 432x288 with 1 Axes>"
            ]
          },
          "metadata": {
            "tags": []
          }
        }
      ]
    },
    {
      "cell_type": "code",
      "metadata": {
        "id": "h_6T04h6mz7d",
        "colab_type": "code",
        "outputId": "9a5553ac-7a9a-4ea3-e80d-0b11890b7e9c",
        "colab": {
          "base_uri": "https://localhost:8080/",
          "height": 286
        }
      },
      "source": [
        "import requests\n",
        "import PIL.ImageOps\n",
        "from PIL import Image\n",
        "url = 'https://images.homedepot-static.com/productImages/007164ea-d47e-4f66-8d8c-fd9f621984a2/svn/architectural-mailboxes-house-letters-numbers-3585b-5-64_1000.jpg'\n",
        "response = requests.get(url, stream = True)\n",
        "img = Image.open(response.raw)\n",
        "plt.imshow(img)\n",
        "print(response)"
      ],
      "execution_count": 52,
      "outputs": [
        {
          "output_type": "stream",
          "text": [
            "<Response [200]>\n"
          ],
          "name": "stdout"
        },
        {
          "output_type": "display_data",
          "data": {
            "image/png": "[encoded data removed]",
            "text/plain": [
              "<Figure size 432x288 with 1 Axes>"
            ]
          },
          "metadata": {
            "tags": []
          }
        }
      ]
    },
    {
      "cell_type": "code",
      "metadata": {
        "id": "EGzCRPiXLroY",
        "colab_type": "code",
        "outputId": "b87c99ab-4843-4d0e-c509-48c8d1420b9a",
        "colab": {
          "base_uri": "https://localhost:8080/",
          "height": 282
        }
      },
      "source": [
        "img = PIL.ImageOps.invert(img)\n",
        "img = img.convert('1')\n",
        "img = transform(img)\n",
        "plt.imshow(im_convert(img))"
      ],
      "execution_count": 53,
      "outputs": [
        {
          "output_type": "execute_result",
          "data": {
            "text/plain": [
              "<matplotlib.image.AxesImage at 0x7fcde9fdcb00>"
            ]
          },
          "metadata": {
            "tags": []
          },
          "execution_count": 53
        },
        {
          "output_type": "display_data",
          "data": {
            "image/png": "[encoded data removed]",
            "text/plain": [
              "<Figure size 432x288 with 1 Axes>"
            ]
          },
          "metadata": {
            "tags": []
          }
        }
      ]
    },
    {
      "cell_type": "code",
      "metadata": {
        "id": "qA4s9lH-NuKK",
        "colab_type": "code",
        "outputId": "82fabd97-81ca-4bb1-ee32-96b3add53c46",
        "colab": {
          "base_uri": "https://localhost:8080/",
          "height": 34
        }
      },
      "source": [
        "#images = img.to(device)\n",
        "image = img[0].unsqueeze(0).unsqueeze(0)\n",
        "output = model(image)\n",
        "_, pred = torch.max(output, 1) \n",
        "print(pred.item())"
      ],
      "execution_count": 54,
      "outputs": [
        {
          "output_type": "stream",
          "text": [
            "5\n"
          ],
          "name": "stdout"
        }
      ]
    },
    {
      "cell_type": "code",
      "metadata": {
        "id": "3hbFipsKOYQ2",
        "colab_type": "code",
        "colab": {
          "base_uri": "https://localhost:8080/",
          "height": 288
        },
        "outputId": "95197be0-e778-498a-c43c-0877bc46837b"
      },
      "source": [
        "dataiter = iter(validation_loader) # training loader(bir iterable) üzerinden iterate edecek.\n",
        "images, labels = dataiter.next() # access it one at a time with next(), returns image, label\n",
        "images = images#.to(device)\n",
        "labels = labels#.to(device)\n",
        "output = model(images)\n",
        "_, preds = torch.max(output, 1) \n",
        "\n",
        "fig = plt.figure(figsize=(25, 4))\n",
        "\n",
        "for idx in np.arange(20):\n",
        "  ax = fig.add_subplot(2, 10, idx+1, xticks=[], yticks=[]) # rows, columns, index\n",
        "  plt.imshow(im_convert(images[idx])) # images[idx] tensor döndürür, np array için \"im_convert\"e sokuyoruz.\n",
        "  ax.set_title(\"{} ({})\".format(str(preds[idx].item()), str(labels[idx].item())), color = (\"green\" if preds[idx]==labels[idx] else \"red\")) #her image için title"
      ],
      "execution_count": 56,
      "outputs": [
        {
          "output_type": "display_data",
          "data": {
            "image/png": "[encoded data removed]",
            "text/plain": [
              "<Figure size 1800x288 with 20 Axes>"
            ]
          },
          "metadata": {
            "tags": []
          }
        }
      ]
    },
    {
      "cell_type": "code",
      "metadata": {
        "id": "0xgFzotEPtvZ",
        "colab_type": "code",
        "colab": {}
      },
      "source": [
        ""
      ],
      "execution_count": 0,
      "outputs": []
    }
  ]
}